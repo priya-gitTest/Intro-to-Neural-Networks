{
 "cells": [
  {
   "cell_type": "markdown",
   "metadata": {},
   "source": [
    "### Installation Instructions"
   ]
  },
  {
   "cell_type": "markdown",
   "metadata": {},
   "source": [
    "Good to start with the Anaconda Python distribution since it has most of the necessary packages\n",
    "* conda install numpy scipy mkl nose sphinx pydot-ng\n",
    "* conda install theano pygpu\n",
    "* conda install pydot graphviz\n",
    "* pip install keras\n",
    "* pip install PyUserInput\n",
    "* pip install parameterized\n",
    "* pip install pyscreenshot\n",
    "* pip install opencv-python"
   ]
  },
  {
   "cell_type": "code",
   "execution_count": 2,
   "metadata": {
    "collapsed": false
   },
   "outputs": [],
   "source": [
    "import os\n",
    "os.environ['KERAS_BACKEND']='theano'\n",
    "import theano\n",
    "from keras import backend as K\n",
    "K.set_image_dim_ordering('th')\n",
    "from keras.models import Sequential\n",
    "from keras.layers import Dense, Dropout, Activation, Flatten\n",
    "from keras.layers import Conv2D, MaxPooling2D\n",
    "from keras.utils import np_utils"
   ]
  },
  {
   "cell_type": "code",
   "execution_count": 3,
   "metadata": {
    "collapsed": false
   },
   "outputs": [],
   "source": [
    "%matplotlib inline\n",
    "from matplotlib.pyplot import imshow\n",
    "import matplotlib.pyplot as plt\n",
    "from PIL import Image\n",
    "import numpy as np\n",
    "from sklearn.utils import shuffle\n",
    "from sklearn.model_selection import train_test_split\n",
    "from keras.utils import np_utils"
   ]
  },
  {
   "cell_type": "markdown",
   "metadata": {},
   "source": [
    "### The Chrome T-Rex\n",
    "\n",
    "The Chrome T-Rex is a fun and simple game that is present within the Chrome browser. It appears everytime when an internet connection is not detected. So when there is no internet connection, users can play a fun game while they wait for the page to load. It is more popular in countries with patchy internet connections or when users are travelling\n",
    "\n",
    "You can try this game yourself in your Chrome browser by switching off the Wi-Fi or Ethernet connections. It would appear something like the animation below"
   ]
  },
  {
   "cell_type": "code",
   "execution_count": 3,
   "metadata": {
    "collapsed": false
   },
   "outputs": [
    {
     "data": {
      "text/html": [
       "<img src=\"./screenshot.gif\">"
      ],
      "text/plain": [
       "<IPython.core.display.HTML object>"
      ]
     },
     "execution_count": 3,
     "metadata": {},
     "output_type": "execute_result"
    }
   ],
   "source": [
    "from IPython.display import HTML\n",
    "HTML('<img src=\"./screenshot.gif\">')"
   ]
  },
  {
   "cell_type": "markdown",
   "metadata": {},
   "source": [
    "### Problem Statement\n",
    "\n",
    "Our objective is to create a program that can play the Chrome T-Rex game autonomously without any human input. There are several ways of achieving this - \n",
    "- Build a simple rule based engine that sees the image on the screen and if the incoming obstacle is at a certain distance to the T-Rex, then we make it jump. This is an explicit rule based computer program where you as the human are telling the computer what to do.\n",
    "- However, since we are in an Introduction to Neural Networks class, we would like to teach the computer to learn to play the game itself. We do not want to give it any explicit instructions. So the rest of this notebook will focus on creating a neural network solution to the Chrome T-Rex game.\n",
    "\n",
    "Let's have some fun!\n"
   ]
  },
  {
   "cell_type": "markdown",
   "metadata": {},
   "source": [
    "#### Solution Approach\n",
    "\n",
    "Our approach is to create a program that can auto-play the Chrome T-Rex game. We will create a supervised neural network to play this game. This neural network will be able to look at the images coming in from the screen and take a decision on whether the T-Rex must jump or not. \n",
    "\n",
    "Therefore, the objective of our neural network should be to recognize an obstacle and provide the JUMP output. In order to do this we will follow a three step approach - \n",
    "\n",
    "1. Generate training data by playing the game\n",
    "2. Train a neural network that uses the training data to understand obstacles and jump\n",
    "3. Validate the performance of the neural network by showing some sample images"
   ]
  },
  {
   "cell_type": "markdown",
   "metadata": {},
   "source": [
    "#### Step 1:\n",
    "\n",
    "The first step of any supervised learning algorithm is to have a set of labelled training data. These data points capture the scene of the game in our case and also have a label associated with them which indicates what action was taken.\n",
    "\n",
    "We can easily capture this training data by taking screenshots of the game as we are playing it. However to simplify things for us, we already have a set of captured images that we can work with. Let's take a look at some of them now."
   ]
  },
  {
   "cell_type": "code",
   "execution_count": 4,
   "metadata": {
    "collapsed": false
   },
   "outputs": [
    {
     "data": {
      "text/plain": [
       "<matplotlib.text.Text at 0x7fae279f19d0>"
      ]
     },
     "execution_count": 4,
     "metadata": {},
     "output_type": "execute_result"
    },
    {
     "data": {
      "image/png": "[encoded data removed]",
      "text/plain": [
       "<matplotlib.figure.Figure at 0x7fae2dee5b10>"
      ]
     },
     "metadata": {},
     "output_type": "display_data"
    }
   ],
   "source": [
    "fig = plt.figure(figsize=(20,20))\n",
    "\n",
    "a=fig.add_subplot(1,2,1)\n",
    "img1 = Image.open('./imgfolder-new/jump.png')\n",
    "imgplot = plt.imshow(img1)\n",
    "a.set_title('JUMP')\n",
    "\n",
    "a=fig.add_subplot(1,2,2)\n",
    "img12 = Image.open('./imgfolder-new/jump12.png')\n",
    "imgplot = plt.imshow(img12)\n",
    "a.set_title('JUMP')\n",
    "\n",
    "a=fig.add_subplot(2,2,1)\n",
    "img21 = Image.open('./imgfolder-new/jump21.png')\n",
    "imgplot = plt.imshow(img21)\n",
    "a.set_title('JUMP')\n",
    "\n",
    "a=fig.add_subplot(2,2,2)\n",
    "img43 = Image.open('./imgfolder-new/jump43.png')\n",
    "imgplot = plt.imshow(img43)\n",
    "a.set_title('JUMP')"
   ]
  },
  {
   "cell_type": "markdown",
   "metadata": {},
   "source": [
    "* These are all examples of images where the correct action for the T-Rex is to JUMP"
   ]
  },
  {
   "cell_type": "code",
   "execution_count": 5,
   "metadata": {
    "collapsed": false
   },
   "outputs": [
    {
     "data": {
      "text/plain": [
       "<matplotlib.text.Text at 0x7fae27833990>"
      ]
     },
     "execution_count": 5,
     "metadata": {},
     "output_type": "execute_result"
    },
    {
     "data": {
      "image/png": "[encoded data removed]",
      "text/plain": [
       "<matplotlib.figure.Figure at 0x7fae27097b50>"
      ]
     },
     "metadata": {},
     "output_type": "display_data"
    }
   ],
   "source": [
    "fig = plt.figure(figsize=(20,20))\n",
    "\n",
    "a=fig.add_subplot(1,2,1)\n",
    "img1 = Image.open('./imgfolder-new/nojump6.png')\n",
    "imgplot = plt.imshow(img1)\n",
    "a.set_title('NO JUMP')\n",
    "\n",
    "a=fig.add_subplot(1,2,2)\n",
    "img12 = Image.open('./imgfolder-new/nojump22.png')\n",
    "imgplot = plt.imshow(img12)\n",
    "a.set_title('NO JUMP')\n",
    "\n",
    "a=fig.add_subplot(2,2,1)\n",
    "img21 = Image.open('./imgfolder-new/nojump41.png')\n",
    "imgplot = plt.imshow(img21)\n",
    "a.set_title('NO JUMP')\n",
    "\n",
    "a=fig.add_subplot(2,2,2)\n",
    "img43 = Image.open('./imgfolder-new/nojump56.png')\n",
    "imgplot = plt.imshow(img43)\n",
    "a.set_title('NO JUMP')"
   ]
  },
  {
   "cell_type": "markdown",
   "metadata": {},
   "source": [
    "* These are examples of images where the T-Rex will not jump because the obstacle is further away or there is no obstacle\n",
    "* This is just a selection of such images that we have in the training data, let's look at how many images we have totally"
   ]
  },
  {
   "cell_type": "code",
   "execution_count": 33,
   "metadata": {
    "collapsed": true
   },
   "outputs": [],
   "source": [
    "def modlistdir(path):\n",
    "    listing = os.listdir(path)\n",
    "    jumpretlist = []\n",
    "    nojumpretlist = []\n",
    "    for name in listing:\n",
    "        #This check is to ignore any hidden files/folders\n",
    "        if name.startswith('.'):\n",
    "            continue\n",
    "        elif name.startswith('jump'):\n",
    "            jumpretlist.append(name)\n",
    "        elif name.startswith('nojump'):\n",
    "            nojumpretlist.append(name)\n",
    "    return jumpretlist, nojumpretlist"
   ]
  },
  {
   "cell_type": "code",
   "execution_count": 34,
   "metadata": {
    "collapsed": false
   },
   "outputs": [
    {
     "name": "stdout",
     "output_type": "stream",
     "text": [
      "Number of JUMP Images - 245\n",
      "Number of NO JUMP Images - 265\n"
     ]
    }
   ],
   "source": [
    "jumpImg, nojumpImg = modlistdir('./imgfolder-new')\n",
    "print \"Number of JUMP Images - \" + str(len(jumpImg))\n",
    "print \"Number of NO JUMP Images - \" + str(len(nojumpImg))"
   ]
  },
  {
   "cell_type": "markdown",
   "metadata": {},
   "source": [
    "#### Splitting the Data\n",
    "\n",
    "* We have a similar number of training examples for JUMP and NOJUMP labels and overall we have approximately 500 images\n",
    "* We will now split these images into a Training dataset and Test dataset\n",
    "* The training dataset will be used to training our neural network and the test dataset will be used to check if our model works well"
   ]
  },
  {
   "cell_type": "code",
   "execution_count": 35,
   "metadata": {
    "collapsed": false
   },
   "outputs": [
    {
     "name": "stdout",
     "output_type": "stream",
     "text": [
      "Size of each image - \n",
      "150 420\n",
      "Size of image matrix - \n",
      "(510, 63000)\n"
     ]
    }
   ],
   "source": [
    "# input image dimensions\n",
    "img_rows, img_cols = 150, 420\n",
    "\n",
    "# number of channels\n",
    "# For grayscale use 1 value and for color images use 3 (R,G,B channels)\n",
    "img_channels = 1\n",
    "\n",
    "imgPath = './imgfolder-new'\n",
    "imlist = jumpImg + nojumpImg\n",
    "immatrix = np.array([np.array((Image.open(imgPath+ '/' + images).resize((img_rows,img_cols))).convert('L')).flatten()\n",
    "                         for images in imlist], dtype = 'f')\n",
    "\n",
    "image1 = np.array(Image.open(imgPath +'/' + imlist[0]))\n",
    "m,n = image1.shape[0:2]\n",
    "\n",
    "print \"Size of each image - \"\n",
    "print m,n\n",
    "print \"Size of image matrix - \"\n",
    "print immatrix.shape"
   ]
  },
  {
   "cell_type": "markdown",
   "metadata": {},
   "source": [
    "Identifying the label with the correct action - this is where we are labelling our data\n",
    "\n",
    "* A label of 0 means that the action for this image is to jump - which is the case for the first 245 images that we have in the folder\n",
    "\n",
    "* A lable of 1 means that the action for this image is to not do anything (since there is no obstacle) - this is the case for the rest of 265 images in our dataset"
   ]
  },
  {
   "cell_type": "code",
   "execution_count": 36,
   "metadata": {
    "collapsed": false
   },
   "outputs": [],
   "source": [
    "total_images = len(imlist)\n",
    "label=np.ones((total_images,),dtype = int)\n",
    "label[0:245]=0    # jump label\n",
    "label[245:]=1     # nojump label"
   ]
  },
  {
   "cell_type": "markdown",
   "metadata": {},
   "source": [
    "* The following code is used to shuffle the images and then split them into Training and Test datasets in 80:20 ratio\n",
    "\n",
    "* Therefore, we will train the model on 80% of the images and then check if the model works well on 20% of the cases"
   ]
  },
  {
   "cell_type": "code",
   "execution_count": 37,
   "metadata": {
    "collapsed": false
   },
   "outputs": [],
   "source": [
    "# Shuffling the dataset so we get a mix of JUMP/NOJUMP images in training and test data\n",
    "data,Label = shuffle(immatrix,label, random_state=23)\n",
    "train_data = [data,Label]\n",
    "(X, y) = (train_data[0],train_data[1])\n",
    "\n",
    "X_train, X_test, y_train, y_test = train_test_split(X, y, test_size=0.2, random_state=42)\n",
    "\n",
    "X_train = X_train.reshape(X_train.shape[0], img_channels, img_rows, img_cols)\n",
    "X_test = X_test.reshape(X_test.shape[0], img_channels, img_rows, img_cols)"
   ]
  },
  {
   "cell_type": "markdown",
   "metadata": {},
   "source": [
    "* We ensure that the distribution of JUMP and NOJUMP images across training and test datasets is reasonably consistent"
   ]
  },
  {
   "cell_type": "code",
   "execution_count": 38,
   "metadata": {
    "collapsed": false
   },
   "outputs": [
    {
     "name": "stdout",
     "output_type": "stream",
     "text": [
      "::::::::::Training Data:::::::::\n",
      "Number of total images: 408\n",
      "Number of JUMP images: 210\n",
      "Testing Data\n",
      "Number of total images: 102\n",
      "Number of JUMP images: 55\n"
     ]
    }
   ],
   "source": [
    "print \"::::::::::Training Data:::::::::\"\n",
    "print \"Number of total images: \" + str(len(X_train))\n",
    "print \"Number of JUMP images: \" + str(y_train.sum())\n",
    "print \"Testing Data\"\n",
    "print \"Number of total images: \" + str(len(X_test))\n",
    "print \"Number of JUMP images: \" + str(y_test.sum())"
   ]
  },
  {
   "cell_type": "code",
   "execution_count": 39,
   "metadata": {
    "collapsed": false
   },
   "outputs": [],
   "source": [
    "# Number of target classes that we want to predict\n",
    "nb_classes = 2\n",
    "\n",
    "X_train = X_train.astype('float32')\n",
    "X_test = X_test.astype('float32')\n",
    "\n",
    "# normalize\n",
    "X_train /= 255\n",
    "X_test /= 255\n",
    "\n",
    "# convert class vectors to binary class matrices\n",
    "Y_train = np_utils.to_categorical(y_train, nb_classes)\n",
    "Y_test = np_utils.to_categorical(y_test, nb_classes)"
   ]
  },
  {
   "cell_type": "markdown",
   "metadata": {},
   "source": [
    "### Step2\n",
    "\n",
    "We have finished creating the Training and Test datasets and it is now time to train the model.\n",
    "\n",
    "For the purpose of this game, we are going to train a Convolutional Neural Network (CNN). This is similar to the basic Neural Network that we looked at earlier but is primarily used in the case of <b>image processing</b>. We will not go into the details of a CNN at this point since it will be covered in one of the Student projects."
   ]
  },
  {
   "cell_type": "code",
   "execution_count": 40,
   "metadata": {
    "collapsed": false
   },
   "outputs": [],
   "source": [
    "# Total number of convolutional filters to use\n",
    "nb_filters = 32\n",
    "\n",
    "# Size of convolution kernel\n",
    "nb_conv = 3\n",
    "\n",
    "# Max pooling\n",
    "nb_pool = 2\n",
    "\n",
    "# input image dimensions\n",
    "img_rows, img_cols = 150, 420\n",
    "\n",
    "# number of channels\n",
    "# For grayscale use 1 value and for color images use 3 (R,G,B channels)\n",
    "img_channels = 1\n",
    "\n",
    "# Initialize the model\n",
    "model = Sequential()\n",
    "\n",
    "# Add the first convolutional layer\n",
    "model.add(Conv2D(nb_filters, (nb_conv, nb_conv),\n",
    "                        padding='valid',\n",
    "                        input_shape=(img_channels, img_rows, img_cols)))\n",
    "\n",
    "# Set the activation function for this later to relu (Rectified Linear Unit)\n",
    "convout1 = Activation('relu')\n",
    "\n",
    "# Add the first convolutional layer to the neural network\n",
    "model.add(convout1)\n",
    "\n",
    "# Add the second convolutional layer to the neural network\n",
    "model.add(Conv2D(nb_filters, (nb_conv, nb_conv)))\n",
    "convout2 = Activation('relu')\n",
    "model.add(convout2)\n",
    "\n",
    "# Add a max pooling layer with Dropout to the neural network\n",
    "model.add(MaxPooling2D(pool_size=(nb_pool, nb_pool)))\n",
    "model.add(Dropout(0.5))\n",
    "\n",
    "# Add some additional layers\n",
    "model.add(Flatten())\n",
    "model.add(Dense(128))\n",
    "model.add(Activation('relu'))\n",
    "\n",
    "# Add another dropout layer\n",
    "model.add(Dropout(0.5))\n",
    "model.add(Dense(nb_classes))\n",
    "\n",
    "# Set the activation function of final layer\n",
    "model.add(Activation('softmax'))\n",
    "\n",
    "# Set the loss function to be optimized and choose the optimizer\n",
    "model.compile(loss='categorical_crossentropy', optimizer='adadelta', metrics=['accuracy'])"
   ]
  },
  {
   "cell_type": "markdown",
   "metadata": {},
   "source": [
    "* Now that we have defined the model, we can look at the various layers of this particular Neural Network\n",
    "* It's not important to focus on the layers at this points. These architectures are normally arrived based on several research papers and more understanding of the domain\n",
    "* For now, we can assume this is the best architecture for this problem and proceed with our problem"
   ]
  },
  {
   "cell_type": "code",
   "execution_count": 41,
   "metadata": {
    "collapsed": false
   },
   "outputs": [
    {
     "name": "stdout",
     "output_type": "stream",
     "text": [
      "_________________________________________________________________\n",
      "Layer (type)                 Output Shape              Param #   \n",
      "=================================================================\n",
      "conv2d_7 (Conv2D)            (None, 32, 148, 418)      320       \n",
      "_________________________________________________________________\n",
      "activation_11 (Activation)   (None, 32, 148, 418)      0         \n",
      "_________________________________________________________________\n",
      "conv2d_8 (Conv2D)            (None, 32, 146, 416)      9248      \n",
      "_________________________________________________________________\n",
      "activation_12 (Activation)   (None, 32, 146, 416)      0         \n",
      "_________________________________________________________________\n",
      "max_pooling2d_3 (MaxPooling2 (None, 32, 73, 208)       0         \n",
      "_________________________________________________________________\n",
      "dropout_5 (Dropout)          (None, 32, 73, 208)       0         \n",
      "_________________________________________________________________\n",
      "flatten_3 (Flatten)          (None, 485888)            0         \n",
      "_________________________________________________________________\n",
      "dense_5 (Dense)              (None, 128)               62193792  \n",
      "_________________________________________________________________\n",
      "activation_13 (Activation)   (None, 128)               0         \n",
      "_________________________________________________________________\n",
      "dropout_6 (Dropout)          (None, 128)               0         \n",
      "_________________________________________________________________\n",
      "dense_6 (Dense)              (None, 2)                 258       \n",
      "_________________________________________________________________\n",
      "activation_14 (Activation)   (None, 2)                 0         \n",
      "=================================================================\n",
      "Total params: 62,203,618\n",
      "Trainable params: 62,203,618\n",
      "Non-trainable params: 0\n",
      "_________________________________________________________________\n"
     ]
    }
   ],
   "source": [
    "model.summary()"
   ]
  },
  {
   "cell_type": "markdown",
   "metadata": {},
   "source": [
    "<b>Model Training</b>\n",
    "\n",
    "* It is now time to train our model. We setup several parameters to determine how we train this model. These are - \n",
    "1. <i>batch_size</i> - this tells the model how many images to consider for each gradient descent calculation\n",
    "2. <i>nb_epoch</i> - this tells the model how many passes it should take on the entire dataset. 1 epoch is one complete pass through the data\n",
    "3. <i>validation_split</i> - this tells the model to validate the results after each epoch on a 20% split of the training data itself, so that we can determine whether the model training is actually progressing"
   ]
  },
  {
   "cell_type": "code",
   "execution_count": 42,
   "metadata": {
    "collapsed": false
   },
   "outputs": [
    {
     "name": "stdout",
     "output_type": "stream",
     "text": [
      "Train on 326 samples, validate on 82 samples\n",
      "Epoch 1/5\n",
      "326/326 [==============================] - 89s 272ms/step - loss: 5.8223 - acc: 0.5092 - val_loss: 4.8688 - val_acc: 0.5244\b\b\b\b\b\b\b\b\b\b\b\b\b\b\b\b\b\b\b\b\b\b\b\b\b\b\b\b\b\b\b\b\b\b\b\b\b\b\b\b\b\b\b\b\b\b\b\b\b\b\b\b\b\b\b\b\b\b\b\b\b\b\b\b\b\b\b\b\b\b\b\b\b\b\b\b\b\b\b\b\b\b\b\b\b\b\b\b\b\b\b\b\b\b\b\b\b\b\b\b\b\b\b\b\b\b\b\b\b\b\b\b\b\b\b\b\b\b\b\b\b\b\b\b\b\b\b\b\b\b\b\b\b\b\b\b\b\b\b\b\b\b\b\b\b\b\b\b\b\b\b\b\b\b\b\b\b\b\b\b\b\b\b\b\b\b\b\b\b\b\b\b\b\b\b\b\b\b\b\b\b\b\b\b\b\b\b\b\b\b\b\b\b\b\b\b\b\b\b\b\b\b\b\b\b\b\b\b\b\b\b\b\b\b\b\b\b\b\b\b\b\b\b\b\b\b\b\b\b\b\b\b\b\b\b\b\b\b\b\b\b\b\b\b\b\b\b\b\b\b\b\b\b\b\b\b\b\b\b\b\b\b\b\b\b\b\b\b\b\b\b\b\b\b\b\b\b\b\b\b\b\b\b\b\b\b\b\b\b\b\b\b\b\b\b\b\b\b\b\b\b\b\b\b\b\b\b\b\b\b\b\b\b\b\b\b\b\b\b\b\b\b\b\b\b\b\b\b\b\b\b\b\b\b\b\b\b\b\b\b\b\b\b\b\b\b\b\b\b\b\b\b\b\b\b\b\b\b\b\b\b\b\b\b\b\b\b\b\b\b\b\b\b\b\b\b\b\b\b\b\b\b\b\b\b\b\b\b\b\b\b\b\b\b\b\b\b\b\b\b\b\b\b\b\b\b\b\b\b\b\b\b\b\b\b\b\b\b\b\b\b\b\b\b\b\b\b\b\b\b\b\b\b\b\b\b\b\b\b\b\b\b\b\b\b\b\b\b\b\b\b\b\b\b\b\b\b\b\b\b\b\b\b\b\b\b\b\b\b\b\b\b\b\b\b\b\b\b\b\b\b\b\b\b\b\b\b\b\b\b\b\b\b\b\b\b\b\b\b\b\b\b\b\b\b\b\b\b\b\b\b\b\b\b\b\b\b\b\b\b\b\b\b\b\b\b\b\b\b\b\b\b\b\b\b\b\b\b\b\b\b\b\b\b\b\b\b\b\b\b\b\b\b\b\b\b\b\b\b\b\b\b\b\b\b\b\b\b\b\b\b\b\b\b\b\b\b\b\b\b\b\b\b\b\b\b\b\b\b\b\b\b\b\b\b\b\b\b\b\b\b\b\b\b\b\b\b\b\b\b\b\b\b\b\b\b\b\b\b\b\b\b\b\b\b\b\b\b\b\b\b\b\b\b\b\b\b\b\b\b\b\b\b\b\b\b\b\b\b\b\b\b\b\b\b\b\b\b\b\b\b\b\b\b\b\b\b\b\b\b\b\b\b\b\b\b\b\b\b\b\b\b\b\b\b\b\b\b\b\b\b\b\b\b\b\b\b\b\b\b\b\b\b\b\b\b\b\b\b\b\b\b\b\b\b\b\b\b\b\b\b\b\b\b\b\b\b\b\b\b\b\b\b\b\b\b\b\b\b\b\b\b\b\b\b\b\b\b\b\b\b\b\b\b\b\b\b\b\b\n",
      "Epoch 2/5\n",
      "326/326 [==============================] - 85s 261ms/step - loss: 1.4901 - acc: 0.6104 - val_loss: 0.5614 - val_acc: 0.7439\b\b\b\b\b\b\b\b\b\b\b\b\b\b\b\b\b\b\b\b\b\b\b\b\b\b\b\b\b\b\b\b\b\b\b\b\b\b\b\b\b\b\b\b\b\b\b\b\b\b\b\b\b\b\b\b\b\b\b\b\b\b\b\b\b\b\b\b\b\b\b\b\b\b\b\b\b\b\b\b\b\b\b\b\b\b\b\b\b\b\b\b\b\b\b\b\b\b\b\b\b\b\b\b\b\b\b\b\b\b\b\b\b\b\b\b\b\b\b\b\b\b\b\b\b\b\b\b\b\b\b\b\b\b\b\b\b\b\b\b\b\b\b\b\b\b\b\b\b\b\b\b\b\b\b\b\b\b\b\b\b\b\b\b\b\b\b\b\b\b\b\b\b\b\b\b\b\b\b\b\b\b\b\b\b\b\b\b\b\b\b\b\b\b\b\b\b\b\b\b\b\b\b\b\b\b\b\b\b\b\b\b\b\b\b\b\b\b\b\b\b\b\b\b\b\b\b\b\b\b\b\b\b\b\b\b\b\b\b\b\b\b\b\b\b\b\b\b\b\b\b\b\b\b\b\b\b\b\b\b\b\b\b\b\b\b\b\b\b\b\b\b\b\b\b\b\b\b\b\b\b\b\b\b\b\b\b\b\b\b\b\b\b\b\b\b\b\b\b\b\b\b\b\b\b\b\b\b\b\b\b\b\b\b\b\b\b\b\b\b\b\b\b\b\b\b\b\b\b\b\b\b\b\b\b\b\b\b\b\b\b\b\b\b\b\b\b\b\b\b\b\b\b\b\b\b\b\b\b\b\b\b\b\b\b\b\b\b\b\b\b\b\b\b\b\b\b\b\b\b\b\b\b\b\b\b\b\b\b\b\b\b\b\b\b\b\b\b\b\b\b\b\b\b\b\b\b\b\b\b\b\b\b\b\b\b\b\b\b\b\b\b\b\b\b\b\b\b\b\b\b\b\b\b\b\b\b\b\b\b\b\b\b\b\b\b\b\b\b\b\b\b\b\b\b\b\b\b\b\b\b\b\b\b\b\b\b\b\b\b\b\b\b\b\b\b\b\b\b\b\b\b\b\b\b\b\b\b\b\b\b\b\b\b\b\b\b\b\b\b\b\b\b\b\b\b\b\b\b\b\b\b\b\b\b\b\b\b\b\b\b\b\b\b\b\b\b\b\b\b\b\b\b\b\b\b\b\b\b\b\b\b\b\b\b\b\b\b\b\b\b\b\b\b\b\b\b\b\b\b\b\b\b\b\b\b\b\b\b\b\b\b\b\b\b\b\b\b\b\b\b\b\b\b\b\b\b\b\b\b\b\b\b\b\b\b\b\b\b\b\b\b\b\b\b\b\b\b\b\b\b\b\b\b\b\b\b\b\b\b\b\b\b\b\b\b\b\b\b\b\b\b\b\b\b\b\b\b\b\b\b\b\b\b\b\b\b\b\b\b\b\b\b\b\b\b\b\b\b\b\b\b\b\b\b\b\b\b\b\b\b\b\b\b\b\b\b\b\b\b\b\b\b\b\b\b\b\b\b\b\b\b\b\b\b\b\b\b\b\b\b\b\b\b\b\b\b\b\b\b\b\b\b\b\b\b\b\b\b\b\b\b\b\b\b\b\b\b\b\b\b\b\b\b\b\b\b\b\b\b\b\b\b\b\b\b\b\b\b\b\b\b\b\b\b\b\b\b\n",
      "Epoch 3/5\n",
      "326/326 [==============================] - 86s 264ms/step - loss: 0.4151 - acc: 0.8313 - val_loss: 0.4704 - val_acc: 0.7683\b\b\b\b\b\b\b\b\b\b\b\b\b\b\b\b\b\b\b\b\b\b\b\b\b\b\b\b\b\b\b\b\b\b\b\b\b\b\b\b\b\b\b\b\b\b\b\b\b\b\b\b\b\b\b\b\b\b\b\b\b\b\b\b\b\b\b\b\b\b\b\b\b\b\b\b\b\b\b\b\b\b\b\b\b\b\b\b\b\b\b\b\b\b\b\b\b\b\b\b\b\b\b\b\b\b\b\b\b\b\b\b\b\b\b\b\b\b\b\b\b\b\b\b\b\b\b\b\b\b\b\b\b\b\b\b\b\b\b\b\b\b\b\b\b\b\b\b\b\b\b\b\b\b\b\b\b\b\b\b\b\b\b\b\b\b\b\b\b\b\b\b\b\b\b\b\b\b\b\b\b\b\b\b\b\b\b\b\b\b\b\b\b\b\b\b\b\b\b\b\b\b\b\b\b\b\b\b\b\b\b\b\b\b\b\b\b\b\b\b\b\b\b\b\b\b\b\b\b\b\b\b\b\b\b\b\b\b\b\b\b\b\b\b\b\b\b\b\b\b\b\b\b\b\b\b\b\b\b\b\b\b\b\b\b\b\b\b\b\b\b\b\b\b\b\b\b\b\b\b\b\b\b\b\b\b\b\b\b\b\b\b\b\b\b\b\b\b\b\b\b\b\b\b\b\b\b\b\b\b\b\b\b\b\b\b\b\b\b\b\b\b\b\b\b\b\b\b\b\b\b\b\b\b\b\b\b\b\b\b\b\b\b\b\b\b\b\b\b\b\b\b\b\b\b\b\b\b\b\b\b\b\b\b\b\b\b\b\b\b\b\b\b\b\b\b\b\b\b\b\b\b\b\b\b\b\b\b\b\b\b\b\b\b\b\b\b\b\b\b\b\b\b\b\b\b\b\b\b\b\b\b\b\b\b\b\b\b\b\b\b\b\b\b\b\b\b\b\b\b\b\b\b\b\b\b\b\b\b\b\b\b\b\b\b\b\b\b\b\b\b\b\b\b\b\b\b\b\b\b\b\b\b\b\b\b\b\b\b\b\b\b\b\b\b\b\b\b\b\b\b\b\b\b\b\b\b\b\b\b\b\b\b\b\b\b\b\b\b\b\b\b\b\b\b\b\b\b\b\b\b\b\b\b\b\b\b\b\b\b\b\b\b\b\b\b\b\b\b\b\b\b\b\b\b\b\b\b\b\b\b\b\b\b\b\b\b\b\b\b\b\b\b\b\b\b\b\b\b\b\b\b\b\b\b\b\b\b\b\b\b\b\b\b\b\b\b\b\b\b\b\b\b\b\b\b\b\b\b\b\b\b\b\b\b\b\b\b\b\b\b\b\b\b\b\b\b\b\b\b\b\b\b\b\b\b\b\b\b\b\b\b\b\b\b\b\b\b\b\b\b\b\b\b\b\b\b\b\b\b\b\b\b\b\b\b\b\b\b\b\b\b\b\b\b\b\b\b\b\b\b\b\b\b\b\b\b\b\b\b\b\b\b\b\b\b\b\b\b\b\b\b\b\b\b\b\b\b\b\b\b\b\b\b\b\b\b\b\b\b\b\b\b\b\b\b\b\b\b\b\b\b\b\b\b\b\b\b\b\b\b\b\b\b\b\b\b\b\b\b\b\b\b\b\b\b\b\b\b\b\b\b\b\b\b\b\b\b\b\b\b\b\b\b\b\b\b\b\n",
      "Epoch 4/5\n",
      "326/326 [==============================] - 86s 263ms/step - loss: 0.3983 - acc: 0.8282 - val_loss: 0.2969 - val_acc: 0.9390\b\b\b\b\b\b\b\b\b\b\b\b\b\b\b\b\b\b\b\b\b\b\b\b\b\b\b\b\b\b\b\b\b\b\b\b\b\b\b\b\b\b\b\b\b\b\b\b\b\b\b\b\b\b\b\b\b\b\b\b\b\b\b\b\b\b\b\b\b\b\b\b\b\b\b\b\b\b\b\b\b\b\b\b\b\b\b\b\b\b\b\b\b\b\b\b\b\b\b\b\b\b\b\b\b\b\b\b\b\b\b\b\b\b\b\b\b\b\b\b\b\b\b\b\b\b\b\b\b\b\b\b\b\b\b\b\b\b\b\b\b\b\b\b\b\b\b\b\b\b\b\b\b\b\b\b\b\b\b\b\b\b\b\b\b\b\b\b\b\b\b\b\b\b\b\b\b\b\b\b\b\b\b\b\b\b\b\b\b\b\b\b\b\b\b\b\b\b\b\b\b\b\b\b\b\b\b\b\b\b\b\b\b\b\b\b\b\b\b\b\b\b\b\b\b\b\b\b\b\b\b\b\b\b\b\b\b\b\b\b\b\b\b\b\b\b\b\b\b\b\b\b\b\b\b\b\b\b\b\b\b\b\b\b\b\b\b\b\b\b\b\b\b\b\b\b\b\b\b\b\b\b\b\b\b\b\b\b\b\b\b\b\b\b\b\b\b\b\b\b\b\b\b\b\b\b\b\b\b\b\b\b\b\b\b\b\b\b\b\b\b\b\b\b\b\b\b\b\b\b\b\b\b\b\b\b\b\b\b\b\b\b\b\b\b\b\b\b\b\b\b\b\b\b\b\b\b\b\b\b\b\b\b\b\b\b\b\b\b\b\b\b\b\b\b\b\b\b\b\b\b\b\b\b\b\b\b\b\b\b\b\b\b\b\b\b\b\b\b\b\b\b\b\b\b\b\b\b\b\b\b\b\b\b\b\b\b\b\b\b\b\b\b\b\b\b\b\b\b\b\b\b\b\b\b\b\b\b\b\b\b\b\b\b\b\b\b\b\b\b\b\b\b\b\b\b\b\b\b\b\b\b\b\b\b\b\b\b\b\b\b\b\b\b\b\b\b\b\b\b\b\b\b\b\b\b\b\b\b\b\b\b\b\b\b\b\b\b\b\b\b\b\b\b\b\b\b\b\b\b\b\b\b\b\b\b\b\b\b\b\b\b\b\b\b\b\b\b\b\b\b\b\b\b\b\b\b\b\b\b\b\b\b\b\b\b\b\b\b\b\b\b\b\b\b\b\b\b\b\b\b\b\b\b\b\b\b\b\b\b\b\b\b\b\b\b\b\b\b\b\b\b\b\b\b\b\b\b\b\b\b\b\b\b\b\b\b\b\b\b\b\b\b\b\b\b\b\b\b\b\b\b\b\b\b\b\b\b\b\b\b\b\b\b\b\b\b\b\b\b\b\b\b\b\b\b\b\b\b\b\b\b\b\b\b\b\b\b\b\b\b\b\b\b\b\b\b\b\b\b\b\b\b\b\b\b\b\b\b\b\b\b\b\b\b\b\b\b\b\b\b\b\b\b\b\b\b\b\b\b\b\b\b\b\b\b\b\b\b\b\b\b\b\b\b\b\b\b\b\b\b\b\b\b\b\b\b\b\b\b\b\b\b\b\b\b\b\b\b\b\b\b\b\b\b\b\b\b\b\b\b\b\b\b\b\b\b\b\b\b\b\b\b\b\b\b\b\b\n",
      "Epoch 5/5\n",
      "326/326 [==============================] - 91s 281ms/step - loss: 0.2049 - acc: 0.9448 - val_loss: 0.2292 - val_acc: 0.9512\b\b\b\b\b\b\b\b\b\b\b\b\b\b\b\b\b\b\b\b\b\b\b\b\b\b\b\b\b\b\b\b\b\b\b\b\b\b\b\b\b\b\b\b\b\b\b\b\b\b\b\b\b\b\b\b\b\b\b\b\b\b\b\b\b\b\b\b\b\b\b\b\b\b\b\b\b\b\b\b\b\b\b\b\b\b\b\b\b\b\b\b\b\b\b\b\b\b\b\b\b\b\b\b\b\b\b\b\b\b\b\b\b\b\b\b\b\b\b\b\b\b\b\b\b\b\b\b\b\b\b\b\b\b\b\b\b\b\b\b\b\b\b\b\b\b\b\b\b\b\b\b\b\b\b\b\b\b\b\b\b\b\b\b\b\b\b\b\b\b\b\b\b\b\b\b\b\b\b\b\b\b\b\b\b\b\b\b\b\b\b\b\b\b\b\b\b\b\b\b\b\b\b\b\b\b\b\b\b\b\b\b\b\b\b\b\b\b\b\b\b\b\b\b\b\b\b\b\b\b\b\b\b\b\b\b\b\b\b\b\b\b\b\b\b\b\b\b\b\b\b\b\b\b\b\b\b\b\b\b\b\b\b\b\b\b\b\b\b\b\b\b\b\b\b\b\b\b\b\b\b\b\b\b\b\b\b\b\b\b\b\b\b\b\b\b\b\b\b\b\b\b\b\b\b\b\b\b\b\b\b\b\b\b\b\b\b\b\b\b\b\b\b\b\b\b\b\b\b\b\b\b\b\b\b\b\b\b\b\b\b\b\b\b\b\b\b\b\b\b\b\b\b\b\b\b\b\b\b\b\b\b\b\b\b\b\b\b\b\b\b\b\b\b\b\b\b\b\b\b\b\b\b\b\b\b\b\b\b\b\b\b\b\b\b\b\b\b\b\b\b\b\b\b\b\b\b\b\b\b\b\b\b\b\b\b\b\b\b\b\b\b\b\b\b\b\b\b\b\b\b\b\b\b\b\b\b\b\b\b\b\b\b\b\b\b\b\b\b\b\b\b\b\b\b\b\b\b\b\b\b\b\b\b\b\b\b\b\b\b\b\b\b\b\b\b\b\b\b\b\b\b\b\b\b\b\b\b\b\b\b\b\b\b\b\b\b\b\b\b\b\b\b\b\b\b\b\b\b\b\b\b\b\b\b\b\b\b\b\b\b\b\b\b\b\b\b\b\b\b\b\b\b\b\b\b\b\b\b\b\b\b\b\b\b\b\b\b\b\b\b\b\b\b\b\b\b\b\b\b\b\b\b\b\b\b\b\b\b\b\b\b\b\b\b\b\b\b\b\b\b\b\b\b\b\b\b\b\b\b\b\b\b\b\b\b\b\b\b\b\b\b\b\b\b\b\b\b\b\b\b\b\b\b\b\b\b\b\b\b\b\b\b\b\b\b\b\b\b\b\b\b\b\b\b\b\b\b\b\b\b\b\b\b\b\b\b\b\b\b\b\b\b\b\b\b\b\b\b\b\b\b\b\b\b\b\b\b\b\b\b\b\b\b\b\b\b\b\b\b\b\b\b\b\b\b\b\b\b\b\b\b\b\b\b\b\b\b\b\b\b\b\b\b\b\b\b\b\b\b\b\b\b\b\b\b\b\b\b\b\b\b\b\b\b\b\b\b\b\b\b\b\b\b\b\b\b\b\b\b\b\b\b\b\b\b\b\b\b\b\b\b\b\b\b\b\b\b\n"
     ]
    }
   ],
   "source": [
    "# Batch_size to train\n",
    "batch_size = 32\n",
    "\n",
    "# Number of epochs to train (change it accordingly)\n",
    "nb_epoch = 5\n",
    "\n",
    "hist = model.fit(X_train, Y_train, batch_size=batch_size, epochs=nb_epoch, verbose=1, validation_split=0.2)"
   ]
  },
  {
   "cell_type": "markdown",
   "metadata": {},
   "source": [
    "#### Progress of Model Training\n",
    "\n",
    "* The model is nothing but an optimization function that tries to find the values of the weights and biases that are good at mapping from Input to Output\n",
    "* It does this in a stage-wise manner by first picking 32 images (batch_size) and then adjusting the weights after averaging the error across this set of images\n",
    "* This process is repeated for every set of 32 images till all the images in the training dataset (326) have been processed - this is the end of one epoch\n",
    "* At this point, it uses the model parameters to predict JUMP/NPJUMP on the validation dataset (82) and prints the loss function and the accuracy for the validation dataset at the end of each epoch\n",
    "* This way we can know if the model is becoming better by training through multiple epochs\n",
    "* The same concepts can be visualized through the graphs below - \n",
    "1. The first one tracks training loss and the validation loss across different epochs\n",
    "2. The second one track training accuracy and validation accuracy across different epochs\n",
    "* Ideally, if the model is getting better, both of these should move close to each other through the epochs. If they start to diverge, then it means that the model has started overfitting"
   ]
  },
  {
   "cell_type": "code",
   "execution_count": 43,
   "metadata": {
    "collapsed": false
   },
   "outputs": [
    {
     "data": {
      "image/png": "[encoded data removed]",
      "text/plain": [
       "<matplotlib.figure.Figure at 0x7fae25ed3bd0>"
      ]
     },
     "metadata": {},
     "output_type": "display_data"
    },
    {
     "data": {
      "image/png": "[encoded data removed]",
      "text/plain": [
       "<matplotlib.figure.Figure at 0x7fae25def350>"
      ]
     },
     "metadata": {},
     "output_type": "display_data"
    }
   ],
   "source": [
    "def visualizeHis(hist):\n",
    "    # visualizing losses and accuracy\n",
    "\n",
    "    train_loss=hist.history['loss']\n",
    "    val_loss=hist.history['val_loss']\n",
    "    train_acc=hist.history['acc']\n",
    "    val_acc=hist.history['val_acc']\n",
    "    xc=range(nb_epoch)\n",
    "\n",
    "    plt.figure(1,figsize=(7,5))\n",
    "    plt.plot(xc,train_loss)\n",
    "    plt.plot(xc,val_loss)\n",
    "    plt.xlabel('num of Epochs')\n",
    "    plt.ylabel('loss')\n",
    "    plt.title('train_loss vs val_loss')\n",
    "    plt.grid(True)\n",
    "    plt.legend(['train','val'])\n",
    "    #print plt.style.available # use bmh, classic,ggplot for big pictures\n",
    "    #plt.style.use(['classic'])\n",
    "\n",
    "    plt.figure(2,figsize=(7,5))\n",
    "    plt.plot(xc,train_acc)\n",
    "    plt.plot(xc,val_acc)\n",
    "    plt.xlabel('num of Epochs')\n",
    "    plt.ylabel('accuracy')\n",
    "    plt.title('train_acc vs val_acc')\n",
    "    plt.grid(True)\n",
    "    plt.legend(['train','val'],loc=4)\n",
    "\n",
    "    plt.show()\n",
    "    \n",
    "visualizeHis(hist)"
   ]
  },
  {
   "cell_type": "markdown",
   "metadata": {},
   "source": [
    "We then save the model parameters that have been learnt to a file that can be used later on our Testing dataset"
   ]
  },
  {
   "cell_type": "code",
   "execution_count": 44,
   "metadata": {
    "collapsed": true
   },
   "outputs": [],
   "source": [
    "fname = \"./modelParams.hdf5\"\n",
    "model.save_weights(fname,overwrite=True)"
   ]
  },
  {
   "cell_type": "markdown",
   "metadata": {},
   "source": [
    "### Step3\n",
    "\n",
    "* We have now trained our model and saved the parameters. We can use this to now see what the model would predict on the images in the Training dataset.\n",
    "* Note that these are images that the model has not seen till now, so this is an example of the model playing the game in real-time. It would read these images from the screen and based on that predict whether to JUMP or NOTJUMP."
   ]
  },
  {
   "cell_type": "code",
   "execution_count": 57,
   "metadata": {
    "collapsed": false
   },
   "outputs": [
    {
     "name": "stdout",
     "output_type": "stream",
     "text": [
      "(102, 1, 150, 420)\n",
      "[ 1.  0.]\n",
      "0\n"
     ]
    }
   ],
   "source": [
    "print X_test.shape\n",
    "print Y_test[1]\n",
    "print y_test[1]"
   ]
  },
  {
   "cell_type": "code",
   "execution_count": 53,
   "metadata": {
    "collapsed": true
   },
   "outputs": [],
   "source": [
    "# Define the function that provide model implementation\n",
    "layer = model.layers[11]\n",
    "get_output = K.function([model.layers[0].input, K.learning_phase()], [layer.output,])"
   ]
  },
  {
   "cell_type": "code",
   "execution_count": 58,
   "metadata": {
    "collapsed": false
   },
   "outputs": [],
   "source": [
    "prob_array = get_output([X_test, 0])[0]"
   ]
  },
  {
   "cell_type": "code",
   "execution_count": 66,
   "metadata": {
    "collapsed": false
   },
   "outputs": [],
   "source": [
    "model_decision = []\n",
    "for p in prob_array:\n",
    "    if p[0] > 0.5 and p[0] > p[1]:\n",
    "        model_decision.append(0)\n",
    "    elif p[1] > 0.5 and p[1] > p[0]:\n",
    "        model_decision.append(1)"
   ]
  },
  {
   "cell_type": "code",
   "execution_count": 81,
   "metadata": {
    "collapsed": false
   },
   "outputs": [
    {
     "name": "stdout",
     "output_type": "stream",
     "text": [
      "Error on Test Dataset: 0.980392156863\n"
     ]
    }
   ],
   "source": [
    "correct_count = 0\n",
    "total_count = 0\n",
    "for pred, real in zip(model_decision, y_test):\n",
    "    if pred == int(real):\n",
    "        correct_count = correct_count + 1\n",
    "    total_count = total_count + 1\n",
    "print \"Error on Test Dataset: \" + str(correct_count*1.0/total_count)"
   ]
  },
  {
   "cell_type": "markdown",
   "metadata": {},
   "source": [
    "### Getting the Intuition\n",
    "\n",
    "* We have now found that our model works on the Test dataset as well but what does it really mean?\n",
    "* Let's try and get some intution about our results but using some images from a completely different dataset.\n",
    "* This also contains the same kind of images but somebody else has created this Training dataset\n",
    "* Another way to actually see if our model works is to make it play the game itself - we can do a short demo of this"
   ]
  },
  {
   "cell_type": "code",
   "execution_count": 98,
   "metadata": {
    "collapsed": true
   },
   "outputs": [],
   "source": [
    "# First we just define some helper functions that we can use directly with the image path\n",
    "\n",
    "def predictImage(imgpath):\n",
    "    # We need to perform the same pre-processing steps that we did on other images\n",
    "    image = np.array((Image.open(imgpath).resize((img_rows,img_cols))).convert('L')).flatten()\n",
    "    image = image.astype('float32')\n",
    "    image = image / 255\n",
    "    rimage = image.reshape(1, img_channels, img_rows, img_cols)\n",
    "    # Call the model to get the probability range\n",
    "    prob_array = get_output([rimage, 0])[0]\n",
    "    return returnPrediction(prob_array)\n",
    "\n",
    "# Return the prediction based on the probability value\n",
    "def returnPrediction(prob_array):\n",
    "    model_decision = []\n",
    "    for p in prob_array:\n",
    "        if p[0] > 0.5 and p[0] > p[1]:\n",
    "            model_decision.append('JUMP')\n",
    "        elif p[1] > 0.5 and p[1] > p[0]:\n",
    "            model_decision.append('NOJUMP')\n",
    "    return model_decision"
   ]
  },
  {
   "cell_type": "code",
   "execution_count": 84,
   "metadata": {
    "collapsed": false
   },
   "outputs": [
    {
     "data": {
      "text/plain": [
       "<matplotlib.text.Text at 0x7fae14a461d0>"
      ]
     },
     "execution_count": 84,
     "metadata": {},
     "output_type": "execute_result"
    },
    {
     "data": {
      "image/png": "[encoded data removed]",
      "text/plain": [
       "<matplotlib.figure.Figure at 0x7fae14a02110>"
      ]
     },
     "metadata": {},
     "output_type": "display_data"
    }
   ],
   "source": [
    "# Let's load one of the images in this dataset\n",
    "fig = plt.figure(figsize=(20,20))\n",
    "a=fig.add_subplot(1,2,1)\n",
    "img1 = Image.open('./imgfolder-test/jump1.png')\n",
    "imgplot = plt.imshow(img1)\n",
    "a.set_title('JUMP')"
   ]
  },
  {
   "cell_type": "markdown",
   "metadata": {},
   "source": [
    "* We can clearly see that this is a JUMP image, and it has also been labelled as such\n",
    "* But we need to check now what our model would say if it had seen the same image"
   ]
  },
  {
   "cell_type": "code",
   "execution_count": 99,
   "metadata": {
    "collapsed": false
   },
   "outputs": [
    {
     "name": "stdout",
     "output_type": "stream",
     "text": [
      "['JUMP']\n"
     ]
    }
   ],
   "source": [
    "print predictImage('./imgfolder-test/jump1.png')"
   ]
  },
  {
   "cell_type": "markdown",
   "metadata": {},
   "source": [
    "* So the model seems to be working correctly\n",
    "* Let's try for another image now, but for the NO Jump type"
   ]
  },
  {
   "cell_type": "code",
   "execution_count": 119,
   "metadata": {
    "collapsed": false
   },
   "outputs": [
    {
     "data": {
      "text/plain": [
       "<matplotlib.text.Text at 0x7fae2587ff50>"
      ]
     },
     "execution_count": 119,
     "metadata": {},
     "output_type": "execute_result"
    },
    {
     "data": {
      "image/png": "[encoded data removed]",
      "text/plain": [
       "<matplotlib.figure.Figure at 0x7fae2722ba90>"
      ]
     },
     "metadata": {},
     "output_type": "display_data"
    }
   ],
   "source": [
    "# Let's load one of the images in this dataset\n",
    "fig = plt.figure(figsize=(20,20))\n",
    "a=fig.add_subplot(1,2,1)\n",
    "img1 = Image.open('./imgfolder-new/nojump3.png')\n",
    "imgplot = plt.imshow(img1)\n",
    "a.set_title('NOJUMP')"
   ]
  },
  {
   "cell_type": "code",
   "execution_count": 122,
   "metadata": {
    "collapsed": false
   },
   "outputs": [
    {
     "name": "stdout",
     "output_type": "stream",
     "text": [
      "['NOJUMP']\n"
     ]
    }
   ],
   "source": [
    "print predictImage('./imgfolder-new/nojump2.png')"
   ]
  }
 ],
 "metadata": {
  "kernelspec": {
   "display_name": "Python 2",
   "language": "python",
   "name": "python2"
  },
  "language_info": {
   "codemirror_mode": {
    "name": "ipython",
    "version": 2
   },
   "file_extension": ".py",
   "mimetype": "text/x-python",
   "name": "python",
   "nbconvert_exporter": "python",
   "pygments_lexer": "ipython2",
   "version": "2.7.14"
  }
 },
 "nbformat": 4,
 "nbformat_minor": 2
}
